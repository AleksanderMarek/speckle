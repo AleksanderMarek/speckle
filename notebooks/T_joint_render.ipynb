{
 "cells": [
  {
   "cell_type": "markdown",
   "id": "fe371a38-c138-4060-972f-f439a5e4372e",
   "metadata": {},
   "source": [
    "# Import "
   ]
  },
  {
   "cell_type": "code",
   "execution_count": 1,
   "id": "445cacd5-af8a-4ba2-8500-1dd78ed948d4",
   "metadata": {},
   "outputs": [],
   "source": [
    "import sys\n",
    "sys.path.append('..')\n",
    "from speckle import VirtExp\n",
    "import speckle\n",
    "import numpy as np\n",
    "import math\n",
    "import bpy\n",
    "import mathutils\n",
    "import os"
   ]
  },
  {
   "cell_type": "markdown",
   "id": "37ec37e8-c0e9-43e4-b5f7-76630e06ada7",
   "metadata": {},
   "source": [
    "## Data"
   ]
  },
  {
   "cell_type": "code",
   "execution_count": 2,
   "id": "34ac9bb4-66ca-4924-b426-53ad817de51a",
   "metadata": {},
   "outputs": [],
   "source": [
    "output_folder = r\"D:\\Experiment Quality\\Correlation test\\T_joint\"\n",
    "pattern_path = os.path.join(output_folder, \"im.tiff\")\n",
    "normals_path = os.path.join(output_folder, \"grad.tiff\")\n",
    "model_path = os.path.join(output_folder, \"model.blend\")\n",
    "output_path = os.path.join(output_folder, \"render_0_0.tiff\")\n",
    "output_path2 = os.path.join(output_folder, \"render_0_1.tiff\")\n",
    "calib_path = os.path.join(output_folder, \"calibration.caldat\")\n",
    "mesh_path = os.path.join(output_folder, \"T_joint_3D.mesh\")"
   ]
  },
  {
   "cell_type": "markdown",
   "id": "76105177-d89f-4c26-b575-951cea858dfb",
   "metadata": {},
   "source": [
    "# Generate speckle pattern if needed"
   ]
  },
  {
   "cell_type": "markdown",
   "id": "5477aff4-ddc1-47d0-aa1d-6f47f3dae949",
   "metadata": {},
   "source": [
    "## Settings"
   ]
  },
  {
   "cell_type": "code",
   "execution_count": 4,
   "id": "59089815-9c71-4736-820d-11d726d2d5b4",
   "metadata": {},
   "outputs": [],
   "source": [
    "image_size = (2000, 3500) # doesnt matter\n",
    "target_size = (500, 1000)\n",
    "pixel_size_physical = 0.00345  # mm\n",
    "imaging_dist = 1500\n",
    "focal_length = 50\n",
    "M = focal_length / (imaging_dist - focal_length)\n",
    "pixel_size = pixel_size_physical/M\n",
    "speckle_size = 14.0 * pixel_size\n",
    "output_DPI = 200\n",
    "n_samples = 20"
   ]
  },
  {
   "cell_type": "markdown",
   "id": "d9f03962-31f0-403e-b11c-48820f5a78e2",
   "metadata": {},
   "source": [
    "## Generate images"
   ]
  },
  {
   "cell_type": "code",
   "execution_count": 25,
   "id": "e4919d93-5315-4ae7-842b-2755b6b7604e",
   "metadata": {},
   "outputs": [],
   "source": [
    "pat1 = speckle.SpeckleImage(image_size, speckle_size)\n",
    "pat1.set_physical_dim(target_size, speckle_size, output_DPI)\n",
    "im1 = pat1.gen_pattern()\n",
    "pat1.pattern_gradient()\n",
    "pat1.im_save(pattern_path)\n",
    "# Generate normals map\n",
    "normals_map = speckle.SpeckleImage(pat1.image_size, 60, normal_map_filter=1)\n",
    "normals_map.gen_pattern()\n",
    "normals_map.pattern_gradient()\n",
    "normals_map.generate_norm_map(binary_map=pat1.gradient)\n",
    "normals_map.grad_save(normals_path)"
   ]
  },
  {
   "cell_type": "markdown",
   "id": "9a78ea21-c83b-41bb-b254-c7a76ea91ac6",
   "metadata": {},
   "source": [
    "# Set up a blender scene"
   ]
  },
  {
   "cell_type": "markdown",
   "id": "5a025b5c-8e86-4f35-b063-300e72afb517",
   "metadata": {},
   "source": [
    "## Setup of the scene: Adding objects"
   ]
  },
  {
   "cell_type": "code",
   "execution_count": 6,
   "id": "03a45cc3-5335-4d11-bd53-c887c042270f",
   "metadata": {},
   "outputs": [
    {
     "name": "stdout",
     "output_type": "stream",
     "text": [
      "Info: Saved \"model.blend\"\n"
     ]
    }
   ],
   "source": [
    "# Generate blender scene\n",
    "a = VirtExp(pattern_path, normals_path, output_path, model_path,\n",
    "            objects_position=\"fixed\")\n",
    "# Set up the scene\n",
    "# Get default properties\n",
    "p = a.get_default_params()\n",
    "# Add the default target\n",
    "target = a.add_FEA_part(mesh_path, thickness=0.005, solidify_flag=False)\n",
    "#target = a.add_rect_target((0.1, 0.1, 0.002))\n",
    "\n",
    "# Add the light panel\n",
    "# Calculate desired orientation of the light\n",
    "light_target = np.array([0, 0, 0.005])\n",
    "light_target_orient = p[\"light_target\"] - np.array(p[\"light_pos\"])\n",
    "# Calculate the rotation angle of the light\n",
    "light_angle = a.calc_rot_angle(p[\"light_init_rot\"], \n",
    "                                  light_target_orient)\n",
    "a.add_light(p[\"light_type\"], pos=p[\"light_pos\"], orient=light_angle,\n",
    "               energy=p[\"light_energy\"], spot_size=p[\"light_spotsize\"],\n",
    "               spot_blend=p[\"light_spot_blend\"], \n",
    "               shadow_spot_size = p[\"light_shad_spot\"])\n",
    "\n",
    "# CAMERAS\n",
    "# Add straight camera\n",
    "# Calculate desired orientation of the cam\n",
    "cam0_pos = np.array(p[\"cam0_pos\"]) \n",
    "cam0_target_orient = p[\"cam0_target\"] - cam0_pos\n",
    "cam0_target_dist = np.linalg.norm(cam0_target_orient)+1e-16\n",
    "cam_angle = a.calc_rot_angle(p[\"cam_init_rot\"], cam0_target_orient)\n",
    "# Define distortions of the lenses\n",
    "cam0_k = [-0.2183, 13.6610, 1.8567, -0.002477, 0.008435, None, None]\n",
    "#cam0_k = [0, 0, 0, 0, 0, None, None]\n",
    "cam0 = a.add_camera(pos=cam0_pos, orient=cam_angle, \n",
    "                    fstop=p[\"cam_fstop\"], \n",
    "                    focal_length=p[\"cam_foc_length\"],\n",
    "                    obj_distance=cam0_target_dist,\n",
    "                    k1=cam0_k[0], k2=cam0_k[1], k3=cam0_k[2], \n",
    "                    p1=cam0_k[3], p2=cam0_k[4], c0=cam0_k[5], c1=cam0_k[6])  \n",
    "a.rotate_around_z(cam0, 0.1)\n",
    "\n",
    "# Add cross camera\n",
    "cam1_pos = np.array(p[\"cam1_pos\"]) \n",
    "cam1_target_orient = p[\"cam1_target\"] - cam1_pos\n",
    "cam1_target_dist = np.linalg.norm(cam1_target_orient)+1e-16\n",
    "cam_angle = a.calc_rot_angle(p[\"cam_init_rot\"], cam1_target_orient)\n",
    "# Define distortions of the lenses\n",
    "cam1_k = [-0.2233, 11.4379, 0.6723, -0.003311, 0.01129, None, None]\n",
    "#cam1_k = [0, 0, 0, 0, 0, None, None]\n",
    "cam1 = a.add_camera(pos=cam1_pos, orient=cam_angle, \n",
    "                    fstop=p[\"cam_fstop\"],\n",
    "                    focal_length=p[\"cam_foc_length\"],\n",
    "                    obj_distance=cam1_target_dist,\n",
    "                    k1=cam1_k[0], k2=cam1_k[1], k3=cam1_k[2], \n",
    "                    p1=cam1_k[3], p2=cam1_k[4], c0=cam1_k[5], c1=cam1_k[6])  \n",
    "a.rotate_around_z(cam1, -0.5)\n",
    "\n",
    "# Define the material and assign it to the cube\n",
    "a.add_material(target)\n",
    "# Write the calibration file\n",
    "a.generate_calib_file(cam0, cam1, calib_path, ang_mode='XYZ')\n",
    "# Set the renderer up and render image\n",
    "a.set_renderer(cam0, n_samples=n_samples)\n",
    "# Save the model\n",
    "a.save_model()"
   ]
  },
  {
   "cell_type": "code",
   "execution_count": null,
   "id": "d351f837-4fd0-4e46-8cac-0afb57fd5da0",
   "metadata": {},
   "outputs": [],
   "source": []
  },
  {
   "cell_type": "code",
   "execution_count": null,
   "id": "67fdeebf-7345-4688-bee3-da521732432a",
   "metadata": {},
   "outputs": [],
   "source": []
  }
 ],
 "metadata": {
  "kernelspec": {
   "display_name": "Python 3 (ipykernel)",
   "language": "python",
   "name": "python3"
  },
  "language_info": {
   "codemirror_mode": {
    "name": "ipython",
    "version": 3
   },
   "file_extension": ".py",
   "mimetype": "text/x-python",
   "name": "python",
   "nbconvert_exporter": "python",
   "pygments_lexer": "ipython3",
   "version": "3.10.8"
  }
 },
 "nbformat": 4,
 "nbformat_minor": 5
}
