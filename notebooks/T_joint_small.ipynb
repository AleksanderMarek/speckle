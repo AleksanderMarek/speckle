{
 "cells": [
  {
   "cell_type": "code",
   "execution_count": 1,
   "id": "2a0026ba-f134-454a-ab57-6dc5468f4e4e",
   "metadata": {},
   "outputs": [],
   "source": [
    "import sys\n",
    "sys.path.append('..')\n",
    "from speckle import VirtExp\n",
    "import speckle\n",
    "import numpy as np\n",
    "import math\n",
    "import bpy\n",
    "import mathutils\n",
    "import os"
   ]
  },
  {
   "cell_type": "code",
   "execution_count": 2,
   "id": "91a1161f-042d-46f0-9df6-46dcd0407017",
   "metadata": {},
   "outputs": [],
   "source": [
    "output_folder = r\"D:\\Experiment Quality\\Correlation test\\T_joint_Rob\"\n",
    "pattern_path = os.path.join(output_folder, \"im.tiff\")\n",
    "normals_path = os.path.join(output_folder, \"grad.tiff\")\n",
    "model_path = os.path.join(output_folder, \"model.blend\")\n",
    "output_path = os.path.join(output_folder, \"render_0_0.tiff\")\n",
    "output_path2 = os.path.join(output_folder, \"render_0_1.tiff\")\n",
    "calib_path = os.path.join(output_folder, \"calibration.caldat\")\n",
    "mesh_path = os.path.join(output_folder, \"T_joint_3D.mesh\")"
   ]
  },
  {
   "cell_type": "code",
   "execution_count": 21,
   "id": "52c61fed-f487-4e75-8eb8-9818ed3876a2",
   "metadata": {},
   "outputs": [],
   "source": [
    "image_size = (2000, 3500) # doesnt matter\n",
    "target_size = (20, 20)\n",
    "pixel_size_physical = 0.00345  # mm\n",
    "imaging_dist = 165\n",
    "#focal_length = 47\n",
    "#M = focal_length / (imaging_dist - focal_length)\n",
    "M = 0.6\n",
    "focal_length = (M * imaging_dist)/(1 + M)\n",
    "pixel_size = pixel_size_physical/M\n",
    "speckle_size = 4.0 * pixel_size\n",
    "output_DPI = 2500\n",
    "n_samples = 500"
   ]
  },
  {
   "cell_type": "code",
   "execution_count": 38,
   "id": "18bd6ffa-c190-4e22-a5a4-4e13b346a1c5",
   "metadata": {},
   "outputs": [
    {
     "name": "stdout",
     "output_type": "stream",
     "text": [
      "0.0346468085106383\n",
      "0.5714285714285714\n"
     ]
    }
   ],
   "source": [
    "print(speckle_size)\n",
    "imaging_dist = 165\n",
    "M = 0.6\n",
    "focal_length = (M * imaging_dist)/(1 + M)\n",
    "#focal_length = 60\n",
    "#M = focal_length / (imaging_dist - focal_length)\n",
    "#print(M)"
   ]
  },
  {
   "cell_type": "code",
   "execution_count": 34,
   "id": "41140cbb-bab6-4562-9c01-9b22e43f30a1",
   "metadata": {},
   "outputs": [],
   "source": [
    "pat1 = speckle.SpeckleImage(image_size, speckle_size)\n",
    "pat1.set_physical_dim(target_size, speckle_size, output_DPI)\n",
    "im1 = pat1.gen_pattern()\n",
    "pat1.pattern_gradient()\n",
    "pat1.im_save(pattern_path)\n",
    "# Generate normals map\n",
    "normals_map = speckle.SpeckleImage(pat1.image_size, 60, normal_map_filter=1)\n",
    "normals_map.gen_pattern()\n",
    "normals_map.pattern_gradient()\n",
    "normals_map.generate_norm_map(binary_map=pat1.gradient)\n",
    "normals_map.grad_save(normals_path)"
   ]
  },
  {
   "cell_type": "code",
   "execution_count": 4,
   "id": "5a0016ce-a48a-44b1-8647-71056f2c536a",
   "metadata": {},
   "outputs": [
    {
     "name": "stdout",
     "output_type": "stream",
     "text": [
      "Info: Saved \"model.blend\"\n"
     ]
    }
   ],
   "source": [
    "# Generate blender scene\n",
    "a = VirtExp(pattern_path, normals_path, output_path, model_path,\n",
    "            objects_position=\"fixed\")\n",
    "# Set up the scene\n",
    "# Get default properties\n",
    "p = a.get_default_params()\n",
    "# Add the default target\n",
    "target = a.add_FEA_part(mesh_path, thickness=0.005, solidify_flag=False)\n",
    "target.location = (0, 0, -0.150)\n",
    "target.rotation_mode = 'QUATERNION'\n",
    "a.rotate_around_z(target, 180)\n",
    "#target = a.add_rect_target((0.1, 0.1, 0.002))\n",
    "\n",
    "# Add the light panel\n",
    "# Calculate desired orientation of the light\n",
    "light_target = np.array([0, 0, 0.005])\n",
    "light_target_orient = p[\"light_target\"] - np.array(p[\"light_pos\"])\n",
    "# Calculate the rotation angle of the light\n",
    "light_angle = a.calc_rot_angle(p[\"light_init_rot\"], \n",
    "                                  light_target_orient)\n",
    "a.add_light(p[\"light_type\"], pos=p[\"light_pos\"], orient=light_angle,\n",
    "               energy=p[\"light_energy\"], spot_size=p[\"light_spotsize\"],\n",
    "               spot_blend=p[\"light_spot_blend\"], \n",
    "               shadow_spot_size = p[\"light_shad_spot\"])\n",
    "\n",
    "# CAMERAS\n",
    "# Add straight camera\n",
    "# Calculate desired orientation of the cam\n",
    "cam0_pos = np.array([0, 0, 0.165]) \n",
    "cam0_target_orient = p[\"cam0_target\"] - cam0_pos\n",
    "cam0_target_dist = np.linalg.norm(cam0_target_orient)\n",
    "cam_angle = a.calc_rot_angle(p[\"cam_init_rot\"], cam0_target_orient)\n",
    "# Define distortions of the lenses\n",
    "cam0_k = [-0.2183, 13.6610, 1.8567, -0.002477, 0.008435, None, None]\n",
    "#cam0_k = [0, 0, 0, 0, 0, None, None]\n",
    "cam0 = a.add_camera(pos=cam0_pos, orient=cam_angle, \n",
    "                    fstop=p[\"cam_fstop\"], \n",
    "                    focal_length=focal_length,\n",
    "                    obj_distance=cam0_target_dist,\n",
    "                    k1=cam0_k[0], k2=cam0_k[1], k3=cam0_k[2], \n",
    "                    p1=cam0_k[3], p2=cam0_k[4], c0=cam0_k[5], c1=cam0_k[6])  \n",
    "# a.rotate_around_z(cam0, 0.1)\n",
    "\n",
    "# Add cross camera\n",
    "ang_y = math.radians(12.0)\n",
    "cam1_pos = np.array([math.sin(ang_y), 0, math.cos(ang_y)]) * imaging_dist*1e-3\n",
    "cam1_target_orient = p[\"cam1_target\"] - cam1_pos\n",
    "cam1_target_dist = np.linalg.norm(cam1_target_orient)\n",
    "cam_angle = a.calc_rot_angle(p[\"cam_init_rot\"], cam1_target_orient)\n",
    "# Define distortions of the lenses\n",
    "cam1_k = [-0.2233, 11.4379, 0.6723, -0.003311, 0.01129, None, None]\n",
    "#cam1_k = [0, 0, 0, 0, 0, None, None]\n",
    "cam1 = a.add_camera(pos=cam1_pos, orient=cam_angle, \n",
    "                    fstop=p[\"cam_fstop\"],\n",
    "                    focal_length=focal_length,\n",
    "                    obj_distance=cam1_target_dist,\n",
    "                    k1=cam1_k[0], k2=cam1_k[1], k3=cam1_k[2], \n",
    "                    p1=cam1_k[3], p2=cam1_k[4], c0=cam1_k[5], c1=cam1_k[6])  \n",
    "# a.rotate_around_z(cam1, -0.5)\n",
    "\n",
    "# Define the material and assign it to the cube\n",
    "a.add_material(target)\n",
    "# Write the calibration file\n",
    "a.generate_calib_file(cam0, cam1, calib_path)\n",
    "# Set the renderer up and render image\n",
    "a.set_renderer(cam0, n_samples=n_samples)\n",
    "# Save the model\n",
    "a.save_model()"
   ]
  },
  {
   "attachments": {},
   "cell_type": "markdown",
   "id": "66b68638-c50d-4c98-a2a8-5a3ebbb4f5d0",
   "metadata": {},
   "source": [
    "## Depth of field study"
   ]
  },
  {
   "attachments": {},
   "cell_type": "markdown",
   "id": "8af0c951-d11f-494c-9c10-277823abb5d9",
   "metadata": {},
   "source": [
    "### Render front camera and cross camera using different f-stops"
   ]
  },
  {
   "cell_type": "code",
   "execution_count": 22,
   "id": "95992037",
   "metadata": {},
   "outputs": [
    {
     "name": "stdout",
     "output_type": "stream",
     "text": [
      "Error: Render error (No error) cannot save: 'D:\\Experiment Quality\\Correlation test\\T_joint_Rob\\ang12\\Image_fstop_40_0.tiff'\n"
     ]
    },
    {
     "ename": "RuntimeError",
     "evalue": "Error: Render error (No error) cannot save: 'D:\\Experiment Quality\\Correlation test\\T_joint_Rob\\ang12\\Image_fstop_40_0.tiff'\n",
     "output_type": "error",
     "traceback": [
      "\u001b[1;31m---------------------------------------------------------------------------\u001b[0m",
      "\u001b[1;31mRuntimeError\u001b[0m                              Traceback (most recent call last)",
      "\u001b[1;32m~\\AppData\\Local\\Temp\\ipykernel_96288\\880655922.py\u001b[0m in \u001b[0;36m<module>\u001b[1;34m\u001b[0m\n\u001b[0;32m     11\u001b[0m     \u001b[0mdef_path\u001b[0m \u001b[1;33m=\u001b[0m \u001b[0mos\u001b[0m\u001b[1;33m.\u001b[0m\u001b[0mpath\u001b[0m\u001b[1;33m.\u001b[0m\u001b[0mjoin\u001b[0m\u001b[1;33m(\u001b[0m\u001b[0mrender_folder\u001b[0m\u001b[1;33m,\u001b[0m \u001b[1;34mf'Image_fstop_{int(10*fstop):d}_0.tiff'\u001b[0m\u001b[1;33m)\u001b[0m\u001b[1;33m\u001b[0m\u001b[1;33m\u001b[0m\u001b[0m\n\u001b[0;32m     12\u001b[0m     \u001b[0ma\u001b[0m\u001b[1;33m.\u001b[0m\u001b[0mset_renderer\u001b[0m\u001b[1;33m(\u001b[0m\u001b[0mcam0\u001b[0m\u001b[1;33m,\u001b[0m \u001b[0mn_samples\u001b[0m\u001b[1;33m=\u001b[0m\u001b[0mn_samples\u001b[0m\u001b[1;33m)\u001b[0m\u001b[1;33m\u001b[0m\u001b[1;33m\u001b[0m\u001b[0m\n\u001b[1;32m---> 13\u001b[1;33m     \u001b[0ma\u001b[0m\u001b[1;33m.\u001b[0m\u001b[0mrender_scene\u001b[0m\u001b[1;33m(\u001b[0m\u001b[0mdef_path\u001b[0m\u001b[1;33m)\u001b[0m\u001b[1;33m\u001b[0m\u001b[1;33m\u001b[0m\u001b[0m\n\u001b[0m\u001b[0;32m     14\u001b[0m     \u001b[0ma\u001b[0m\u001b[1;33m.\u001b[0m\u001b[0madd_image_distortion\u001b[0m\u001b[1;33m(\u001b[0m\u001b[0mcam0\u001b[0m\u001b[1;33m,\u001b[0m \u001b[0mdef_path\u001b[0m\u001b[1;33m)\u001b[0m\u001b[1;33m\u001b[0m\u001b[1;33m\u001b[0m\u001b[0m\n\u001b[0;32m     15\u001b[0m     \u001b[0mdef_path\u001b[0m \u001b[1;33m=\u001b[0m \u001b[0mos\u001b[0m\u001b[1;33m.\u001b[0m\u001b[0mpath\u001b[0m\u001b[1;33m.\u001b[0m\u001b[0mjoin\u001b[0m\u001b[1;33m(\u001b[0m\u001b[0mrender_folder\u001b[0m\u001b[1;33m,\u001b[0m \u001b[1;34mf'Image_fstop_{int(10*fstop):d}_1.tiff'\u001b[0m\u001b[1;33m)\u001b[0m\u001b[1;33m\u001b[0m\u001b[1;33m\u001b[0m\u001b[0m\n",
      "\u001b[1;32md:\\GitHub\\speckle\\notebooks\\..\\speckle\\VirtExp.py\u001b[0m in \u001b[0;36mrender_scene\u001b[1;34m(self, filepath)\u001b[0m\n\u001b[0;32m    420\u001b[0m         \u001b[1;32mif\u001b[0m \u001b[0mfilepath\u001b[0m \u001b[1;32mis\u001b[0m \u001b[1;32mnot\u001b[0m \u001b[1;32mNone\u001b[0m\u001b[1;33m:\u001b[0m\u001b[1;33m\u001b[0m\u001b[1;33m\u001b[0m\u001b[0m\n\u001b[0;32m    421\u001b[0m             \u001b[0mbpy\u001b[0m\u001b[1;33m.\u001b[0m\u001b[0mcontext\u001b[0m\u001b[1;33m.\u001b[0m\u001b[0mscene\u001b[0m\u001b[1;33m.\u001b[0m\u001b[0mrender\u001b[0m\u001b[1;33m.\u001b[0m\u001b[0mfilepath\u001b[0m \u001b[1;33m=\u001b[0m \u001b[0mfilepath\u001b[0m\u001b[1;33m\u001b[0m\u001b[1;33m\u001b[0m\u001b[0m\n\u001b[1;32m--> 422\u001b[1;33m         \u001b[0mbpy\u001b[0m\u001b[1;33m.\u001b[0m\u001b[0mops\u001b[0m\u001b[1;33m.\u001b[0m\u001b[0mrender\u001b[0m\u001b[1;33m.\u001b[0m\u001b[0mrender\u001b[0m\u001b[1;33m(\u001b[0m\u001b[0mwrite_still\u001b[0m\u001b[1;33m=\u001b[0m\u001b[1;32mTrue\u001b[0m\u001b[1;33m)\u001b[0m\u001b[1;33m\u001b[0m\u001b[1;33m\u001b[0m\u001b[0m\n\u001b[0m\u001b[0;32m    423\u001b[0m \u001b[1;33m\u001b[0m\u001b[0m\n\u001b[0;32m    424\u001b[0m     \u001b[1;32mdef\u001b[0m \u001b[0msave_model\u001b[0m\u001b[1;33m(\u001b[0m\u001b[0mself\u001b[0m\u001b[1;33m)\u001b[0m\u001b[1;33m:\u001b[0m\u001b[1;33m\u001b[0m\u001b[1;33m\u001b[0m\u001b[0m\n",
      "\u001b[1;32md:\\conda_envs\\envs\\eq-net\\lib\\site-packages\\bpy\\3.4\\scripts\\modules\\bpy\\ops.py\u001b[0m in \u001b[0;36m__call__\u001b[1;34m(self, *args, **kw)\u001b[0m\n\u001b[0;32m    111\u001b[0m             \u001b[0mret\u001b[0m \u001b[1;33m=\u001b[0m \u001b[0m_op_call\u001b[0m\u001b[1;33m(\u001b[0m\u001b[0mself\u001b[0m\u001b[1;33m.\u001b[0m\u001b[0midname_py\u001b[0m\u001b[1;33m(\u001b[0m\u001b[1;33m)\u001b[0m\u001b[1;33m,\u001b[0m \u001b[0mC_dict\u001b[0m\u001b[1;33m,\u001b[0m \u001b[0mkw\u001b[0m\u001b[1;33m,\u001b[0m \u001b[0mC_exec\u001b[0m\u001b[1;33m,\u001b[0m \u001b[0mC_undo\u001b[0m\u001b[1;33m)\u001b[0m\u001b[1;33m\u001b[0m\u001b[1;33m\u001b[0m\u001b[0m\n\u001b[0;32m    112\u001b[0m         \u001b[1;32melse\u001b[0m\u001b[1;33m:\u001b[0m\u001b[1;33m\u001b[0m\u001b[1;33m\u001b[0m\u001b[0m\n\u001b[1;32m--> 113\u001b[1;33m             \u001b[0mret\u001b[0m \u001b[1;33m=\u001b[0m \u001b[0m_op_call\u001b[0m\u001b[1;33m(\u001b[0m\u001b[0mself\u001b[0m\u001b[1;33m.\u001b[0m\u001b[0midname_py\u001b[0m\u001b[1;33m(\u001b[0m\u001b[1;33m)\u001b[0m\u001b[1;33m,\u001b[0m \u001b[1;32mNone\u001b[0m\u001b[1;33m,\u001b[0m \u001b[0mkw\u001b[0m\u001b[1;33m)\u001b[0m\u001b[1;33m\u001b[0m\u001b[1;33m\u001b[0m\u001b[0m\n\u001b[0m\u001b[0;32m    114\u001b[0m \u001b[1;33m\u001b[0m\u001b[0m\n\u001b[0;32m    115\u001b[0m         \u001b[1;32mif\u001b[0m \u001b[1;34m'FINISHED'\u001b[0m \u001b[1;32min\u001b[0m \u001b[0mret\u001b[0m \u001b[1;32mand\u001b[0m \u001b[0mcontext\u001b[0m\u001b[1;33m.\u001b[0m\u001b[0mwindow_manager\u001b[0m \u001b[1;33m==\u001b[0m \u001b[0mwm\u001b[0m\u001b[1;33m:\u001b[0m\u001b[1;33m\u001b[0m\u001b[1;33m\u001b[0m\u001b[0m\n",
      "\u001b[1;31mRuntimeError\u001b[0m: Error: Render error (No error) cannot save: 'D:\\Experiment Quality\\Correlation test\\T_joint_Rob\\ang12\\Image_fstop_40_0.tiff'\n"
     ]
    }
   ],
   "source": [
    "render_folder = os.path.join(output_folder, \n",
    "                             f\"ang{math.degrees(ang_y):1g}\")\n",
    "if not os.path.exists(render_folder):\n",
    "    os.mkdir(render_folder)  \n",
    "fnum_list = [4, 5.6, 8, 11, 16, 22, 32]\n",
    "calib_path = os.path.join(render_folder, 'calibration.caldat')\n",
    "a.generate_calib_file(cam0, cam1, calib_path)\n",
    "for fstop in fnum_list:\n",
    "    cam0.data.dof.aperture_fstop = fstop\n",
    "    cam1.data.dof.aperture_fstop = fstop\n",
    "    def_path = os.path.join(render_folder, f'Image_fstop_{int(10*fstop):d}_0.tiff')\n",
    "    a.set_renderer(cam0, n_samples=n_samples)\n",
    "    a.render_scene(def_path)\n",
    "    a.add_image_distortion(cam0, def_path)\n",
    "    def_path = os.path.join(render_folder, f'Image_fstop_{int(10*fstop):d}_1.tiff')\n",
    "    a.set_renderer(cam1, n_samples=n_samples)\n",
    "    a.render_scene(def_path)\n",
    "    a.add_image_distortion(cam1, def_path)"
   ]
  },
  {
   "cell_type": "code",
   "execution_count": null,
   "id": "5032b1f9",
   "metadata": {},
   "outputs": [],
   "source": []
  }
 ],
 "metadata": {
  "kernelspec": {
   "display_name": "Python 3 (ipykernel)",
   "language": "python",
   "name": "python3"
  },
  "language_info": {
   "codemirror_mode": {
    "name": "ipython",
    "version": 3
   },
   "file_extension": ".py",
   "mimetype": "text/x-python",
   "name": "python",
   "nbconvert_exporter": "python",
   "pygments_lexer": "ipython3",
   "version": "3.10.8"
  }
 },
 "nbformat": 4,
 "nbformat_minor": 5
}
