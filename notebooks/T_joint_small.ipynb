{
 "cells": [
  {
   "cell_type": "code",
   "execution_count": 7,
   "id": "2a0026ba-f134-454a-ab57-6dc5468f4e4e",
   "metadata": {},
   "outputs": [],
   "source": [
    "import sys\n",
    "sys.path.append('..')\n",
    "from speckle import VirtExp\n",
    "import speckle\n",
    "import numpy as np\n",
    "import math\n",
    "import bpy\n",
    "import mathutils\n",
    "import os"
   ]
  },
  {
   "cell_type": "code",
   "execution_count": 8,
   "id": "91a1161f-042d-46f0-9df6-46dcd0407017",
   "metadata": {},
   "outputs": [],
   "source": [
    "output_folder = r\"D:\\Experiment Quality\\Correlation test\\T_joint_Rob\"\n",
    "pattern_path = os.path.join(output_folder, \"im.tiff\")\n",
    "normals_path = os.path.join(output_folder, \"grad.tiff\")\n",
    "model_path = os.path.join(output_folder, \"model.blend\")\n",
    "output_path = os.path.join(output_folder, \"render_0_0.tiff\")\n",
    "output_path2 = os.path.join(output_folder, \"render_0_1.tiff\")\n",
    "calib_path = os.path.join(output_folder, \"calibration.caldat\")\n",
    "mesh_path = os.path.join(output_folder, \"T_joint_3D.mesh\")"
   ]
  },
  {
   "cell_type": "code",
   "execution_count": 33,
   "id": "52c61fed-f487-4e75-8eb8-9818ed3876a2",
   "metadata": {},
   "outputs": [],
   "source": [
    "image_size = (2000, 3500) # doesnt matter\n",
    "target_size = (20, 20)\n",
    "pixel_size_physical = 0.00345  # mm\n",
    "imaging_dist = 165\n",
    "focal_length = 47\n",
    "M = focal_length / (imaging_dist - focal_length)\n",
    "pixel_size = pixel_size_physical/M\n",
    "speckle_size = 4.0 * pixel_size\n",
    "output_DPI = 2500\n",
    "n_samples = 20"
   ]
  },
  {
   "cell_type": "code",
   "execution_count": 34,
   "id": "41140cbb-bab6-4562-9c01-9b22e43f30a1",
   "metadata": {},
   "outputs": [],
   "source": [
    "pat1 = speckle.SpeckleImage(image_size, speckle_size)\n",
    "pat1.set_physical_dim(target_size, speckle_size, output_DPI)\n",
    "im1 = pat1.gen_pattern()\n",
    "pat1.pattern_gradient()\n",
    "pat1.im_save(pattern_path)\n",
    "# Generate normals map\n",
    "normals_map = speckle.SpeckleImage(pat1.image_size, 60, normal_map_filter=1)\n",
    "normals_map.gen_pattern()\n",
    "normals_map.pattern_gradient()\n",
    "normals_map.generate_norm_map(binary_map=pat1.gradient)\n",
    "normals_map.grad_save(normals_path)"
   ]
  },
  {
   "cell_type": "code",
   "execution_count": 35,
   "id": "5a0016ce-a48a-44b1-8647-71056f2c536a",
   "metadata": {},
   "outputs": [
    {
     "name": "stdout",
     "output_type": "stream",
     "text": [
      "Info: Saved \"model.blend\"\n"
     ]
    }
   ],
   "source": [
    "# Generate blender scene\n",
    "a = VirtExp(pattern_path, normals_path, output_path, model_path,\n",
    "            objects_position=\"fixed\")\n",
    "# Set up the scene\n",
    "# Get default properties\n",
    "p = a.get_default_params()\n",
    "# Add the default target\n",
    "target = a.add_FEA_part(mesh_path, thickness=0.005, solidify_flag=False)\n",
    "target.location = (0, 0, -0.150)\n",
    "target.rotation_mode = 'QUATERNION'\n",
    "a.rotate_around_z(target, 180)\n",
    "#target = a.add_rect_target((0.1, 0.1, 0.002))\n",
    "\n",
    "# Add the light panel\n",
    "# Calculate desired orientation of the light\n",
    "light_target = np.array([0, 0, 0.005])\n",
    "light_target_orient = p[\"light_target\"] - np.array(p[\"light_pos\"])\n",
    "# Calculate the rotation angle of the light\n",
    "light_angle = a.calc_rot_angle(p[\"light_init_rot\"], \n",
    "                                  light_target_orient)\n",
    "a.add_light(p[\"light_type\"], pos=p[\"light_pos\"], orient=light_angle,\n",
    "               energy=p[\"light_energy\"], spot_size=p[\"light_spotsize\"],\n",
    "               spot_blend=p[\"light_spot_blend\"], \n",
    "               shadow_spot_size = p[\"light_shad_spot\"])\n",
    "\n",
    "# CAMERAS\n",
    "# Add straight camera\n",
    "# Calculate desired orientation of the cam\n",
    "cam0_pos = np.array([0, 0, 0.165]) \n",
    "cam0_target_orient = p[\"cam0_target\"] - cam0_pos\n",
    "cam0_target_dist = np.linalg.norm(cam0_target_orient)\n",
    "cam_angle = a.calc_rot_angle(p[\"cam_init_rot\"], cam0_target_orient)\n",
    "# Define distortions of the lenses\n",
    "cam0_k = [-0.2183, 13.6610, 1.8567, -0.002477, 0.008435, None, None]\n",
    "#cam0_k = [0, 0, 0, 0, 0, None, None]\n",
    "cam0 = a.add_camera(pos=cam0_pos, orient=cam_angle, \n",
    "                    fstop=p[\"cam_fstop\"], \n",
    "                    focal_length=focal_length,\n",
    "                    obj_distance=cam0_target_dist,\n",
    "                    k1=cam0_k[0], k2=cam0_k[1], k3=cam0_k[2], \n",
    "                    p1=cam0_k[3], p2=cam0_k[4], c0=cam0_k[5], c1=cam0_k[6])  \n",
    "a.rotate_around_z(cam0, 0.1)\n",
    "\n",
    "# Add cross camera\n",
    "ang_y = math.radians(12.0)\n",
    "cam1_pos = np.array([math.sin(ang_y), 0, math.cos(ang_y)]) * imaging_dist*1e-3\n",
    "cam1_target_orient = p[\"cam1_target\"] - cam1_pos\n",
    "cam1_target_dist = np.linalg.norm(cam1_target_orient)\n",
    "cam_angle = a.calc_rot_angle(p[\"cam_init_rot\"], cam1_target_orient)\n",
    "# Define distortions of the lenses\n",
    "cam1_k = [-0.2233, 11.4379, 0.6723, -0.003311, 0.01129, None, None]\n",
    "#cam1_k = [0, 0, 0, 0, 0, None, None]\n",
    "cam1 = a.add_camera(pos=cam1_pos, orient=cam_angle, \n",
    "                    fstop=p[\"cam_fstop\"],\n",
    "                    focal_length=focal_length,\n",
    "                    obj_distance=cam1_target_dist,\n",
    "                    k1=cam1_k[0], k2=cam1_k[1], k3=cam1_k[2], \n",
    "                    p1=cam1_k[3], p2=cam1_k[4], c0=cam1_k[5], c1=cam1_k[6])  \n",
    "a.rotate_around_z(cam1, -0.5)\n",
    "\n",
    "# Define the material and assign it to the cube\n",
    "a.add_material(target)\n",
    "# Write the calibration file\n",
    "a.generate_calib_file(cam0, cam1, calib_path, ang_mode='XYZ')\n",
    "# Set the renderer up and render image\n",
    "a.set_renderer(cam0, n_samples=n_samples)\n",
    "# Save the model\n",
    "a.save_model()"
   ]
  },
  {
   "cell_type": "code",
   "execution_count": null,
   "id": "66b68638-c50d-4c98-a2a8-5a3ebbb4f5d0",
   "metadata": {},
   "outputs": [],
   "source": []
  },
  {
   "cell_type": "code",
   "execution_count": null,
   "id": "8af0c951-d11f-494c-9c10-277823abb5d9",
   "metadata": {},
   "outputs": [],
   "source": []
  },
  {
   "cell_type": "code",
   "execution_count": null,
   "id": "93eff442-ddef-40db-aa75-76bed5c4f789",
   "metadata": {},
   "outputs": [],
   "source": []
  }
 ],
 "metadata": {
  "kernelspec": {
   "display_name": "Python 3 (ipykernel)",
   "language": "python",
   "name": "python3"
  },
  "language_info": {
   "codemirror_mode": {
    "name": "ipython",
    "version": 3
   },
   "file_extension": ".py",
   "mimetype": "text/x-python",
   "name": "python",
   "nbconvert_exporter": "python",
   "pygments_lexer": "ipython3",
   "version": "3.10.8"
  }
 },
 "nbformat": 4,
 "nbformat_minor": 5
}
