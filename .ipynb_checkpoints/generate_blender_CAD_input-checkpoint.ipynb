{
 "cells": [
  {
   "cell_type": "markdown",
   "id": "3517eb83-bfff-420b-8188-bb5ea6a0a08a",
   "metadata": {},
   "source": [
    "# Read a mesh file"
   ]
  },
  {
   "cell_type": "code",
   "execution_count": 1,
   "id": "79ed891d-4420-4750-8c13-b16a1417e75c",
   "metadata": {},
   "outputs": [],
   "source": [
    "filepath = r\"D:\\GitHub\\speckle\\test_specimen\\fullSpec.mesh\""
   ]
  },
  {
   "cell_type": "code",
   "execution_count": 47,
   "id": "a97b942b-df65-4fa5-9b3f-7cc1f0515c0f",
   "metadata": {},
   "outputs": [
    {
     "name": "stdout",
     "output_type": "stream",
     "text": [
      "[1, 11433]\n",
      "[(95.5210571, 24.1234226, 0.0), (73.2295761, 35.3734207, 0.0), (95.5210571, 35.3734207, 0.0), (69.1673203, 36.7326317, 0.0), (54.8800545, 47.4988594, 0.0)]\n",
      "((1184, 1185, 1369, 1334), (1185, 1186, 1370, 1369), (1186, 1187, 1371, 1370), (1187, 1173, 1372, 1371), (1173, 1188, 1373, 1372))\n"
     ]
    }
   ],
   "source": [
    "with open(filepath, 'r') as file:\n",
    "    lines = file.readlines()\n",
    "    tag_lines = [i for i, line in enumerate(lines) \\\n",
    "                 if line.startswith('*Node') \\\n",
    "                 or line.startswith('*Element')]\n",
    "                 \n",
    "    print(tag_lines)\n",
    "    #[print(line.split(';')[1:]) for i, line in enumerate(lines)\n",
    "    #            if not line.startswith('*') and i < 5]\n",
    "    nodes = list((float(line.split(';')[1]), \n",
    "                   float(line.split(';')[2]), \n",
    "                   float(line.split(';')[3])) \\\n",
    "                  for i, line in enumerate(lines)\n",
    "                if not line.startswith('*') and i < tag_lines[1])\n",
    "    print(nodes[0:5])\n",
    "    elements = tuple((int(line.split(';')[1]), \n",
    "                   int(line.split(';')[2]), \n",
    "                   int(line.split(';')[3]),\n",
    "                   int(line.split(';')[4])) \\\n",
    "                  for i, line in enumerate(lines)\n",
    "                if not line.startswith('*') and i > tag_lines[1])\n",
    "    print(elements[0:5])"
   ]
  },
  {
   "cell_type": "code",
   "execution_count": null,
   "id": "a03a54a4-5da8-4d24-a517-9b9bfd5f4e6b",
   "metadata": {},
   "outputs": [],
   "source": [
    "filepath = r\"D:\\GitHub\\speckle\\test_specimen\\fullSpec5.csv\""
   ]
  },
  {
   "cell_type": "code",
   "execution_count": null,
   "id": "8f1758e1-e254-43d5-a5ad-33bd89982a81",
   "metadata": {},
   "outputs": [],
   "source": []
  },
  {
   "cell_type": "code",
   "execution_count": null,
   "id": "9b4caf54-4185-418b-80d0-26160df01b11",
   "metadata": {},
   "outputs": [],
   "source": []
  },
  {
   "cell_type": "code",
   "execution_count": null,
   "id": "b1d8f1d2-4fc2-4b5f-9272-285218a515af",
   "metadata": {},
   "outputs": [],
   "source": []
  },
  {
   "cell_type": "code",
   "execution_count": null,
   "id": "4835cba6-0256-4136-8fb9-e9a3adfcd97c",
   "metadata": {},
   "outputs": [],
   "source": []
  },
  {
   "cell_type": "code",
   "execution_count": null,
   "id": "959d2f53-3339-488f-957e-adea795a2310",
   "metadata": {},
   "outputs": [],
   "source": []
  }
 ],
 "metadata": {
  "kernelspec": {
   "display_name": "Python 3 (ipykernel)",
   "language": "python",
   "name": "python3"
  },
  "language_info": {
   "codemirror_mode": {
    "name": "ipython",
    "version": 3
   },
   "file_extension": ".py",
   "mimetype": "text/x-python",
   "name": "python",
   "nbconvert_exporter": "python",
   "pygments_lexer": "ipython3",
   "version": "3.10.8"
  }
 },
 "nbformat": 4,
 "nbformat_minor": 5
}
