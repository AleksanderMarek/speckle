{
 "cells": [
  {
   "cell_type": "code",
   "execution_count": 1,
   "id": "505d3d04-61a2-4d00-9a2c-3011e25ef564",
   "metadata": {},
   "outputs": [],
   "source": [
    "from speckle import VirtExp\n",
    "import speckle\n",
    "import numpy as np\n",
    "import math"
   ]
  },
  {
   "cell_type": "code",
   "execution_count": 17,
   "id": "9152066b-2119-4cca-8be1-505d6f9df66e",
   "metadata": {},
   "outputs": [],
   "source": [
    "pattern_path = r\"D:\\Experiment Quality\\blender_model\\im.tiff\"\n",
    "normals_path = r\"D:\\Experiment Quality\\blender_model\\grad.tiff\"\n",
    "model_path = r\"D:\\Experiment Quality\\blender_model\\model_dev.blend\"\n",
    "output_path = r\"D:\\Experiment Quality\\Correlation test\\compliant_spec_distortion\\render_0_0.tiff\"\n",
    "output_path2 = r\"D:\\Experiment Quality\\Correlation test\\compliant_spec_distortion\\render_0_1.tiff\"\n",
    "calib_path = r\"D:\\Experiment Quality\\Correlation test\\compliant_spec_distortion\\calibration.caldat\"\n",
    "mesh_path = r\"D:\\GitHub\\speckle\\test_specimen\\fullSpec.mesh\""
   ]
  },
  {
   "cell_type": "code",
   "execution_count": 22,
   "id": "ee549ecf-e194-4363-87bc-6f7979565a39",
   "metadata": {},
   "outputs": [
    {
     "name": "stdout",
     "output_type": "stream",
     "text": [
      "Info: Saved \"model_dev.blend\"\n"
     ]
    }
   ],
   "source": [
    "# Generate blender scene\n",
    "a = VirtExp(pattern_path, normals_path, output_path, model_path,\n",
    "            objects_position=\"fixed\")\n",
    "# Set up the scene\n",
    "# Get default properties\n",
    "p = a.get_default_params()\n",
    "# CAMERAS\n",
    "# Add the default target\n",
    "target = a.add_FEA_part(mesh_path)\n",
    "# Add the light panel\n",
    "# Calculate desired orientation of the light\n",
    "light_target_orient = p[\"light_target\"] - np.array(p[\"light_pos\"])\n",
    "# Calculate the rotation angle of the light\n",
    "light_angle = a.calc_rot_angle(p[\"light_init_rot\"], \n",
    "                                  light_target_orient)\n",
    "a.add_light(p[\"light_type\"], pos=p[\"light_pos\"], orient=light_angle,\n",
    "               energy=p[\"light_energy\"], spot_size=p[\"light_spotsize\"],\n",
    "               spot_blend=p[\"light_spot_blend\"], \n",
    "               shadow_spot_size = p[\"light_shad_spot\"])\n",
    "# Add straight camera\n",
    "# Calculate desired orientation of the cam\n",
    "cam0_target_orient = p[\"cam0_target\"] - np.array(p[\"cam0_pos\"]) \n",
    "cam0_target_dist = np.linalg.norm(cam0_target_orient)+1e-16\n",
    "cam_angle = a.calc_rot_angle(p[\"cam_init_rot\"], cam0_target_orient)\n",
    "cam0 = a.add_camera(pos=p[\"cam0_pos\"], orient=cam_angle, \n",
    "                       fstop=p[\"cam_fstop\"], \n",
    "                       focal_length=p[\"cam_foc_length\"],\n",
    "                       obj_distance=cam0_target_dist,\n",
    "                       k1=0.0, p1=0.00)  \n",
    "# Add cross camera\n",
    "# Camera position\n",
    "#ang_x = math.radians(20.0)\n",
    "#cam1_pos = np.array([0.0, math.sin(ang_x), math.cos(ang_x)])\n",
    "ang_y = math.radians(15.0)\n",
    "cam1_pos = np.array([math.sin(ang_y), 0, math.cos(ang_y)])\n",
    "cam1_target_orient = p[\"cam1_target\"] - cam1_pos\n",
    "cam1_target_dist = np.linalg.norm(cam1_target_orient)+1e-16\n",
    "cam_angle = a.calc_rot_angle(p[\"cam_init_rot\"], cam1_target_orient)\n",
    "cam1 = a.add_camera(pos=cam1_pos, orient=cam_angle, \n",
    "                       fstop=p[\"cam_fstop\"],\n",
    "                       focal_length=p[\"cam_foc_length\"],\n",
    "                       obj_distance=cam1_target_dist)         \n",
    "# Define the material and assign it to the cube\n",
    "a.add_material(target)\n",
    "# Write the calibration file\n",
    "a.generate_calib_file(cam0, cam1, calib_path)\n",
    "# Set the renderer up and render image\n",
    "a.set_renderer(cam0, n_samples=100)\n",
    "# Add distortion to the model\n",
    "a.add_image_distortion(cam0)\n",
    "# Save the model\n",
    "a.save_model()\n",
    "# Render the scene with the perpendicular camera\n",
    "a.render_scene(output_path)\n",
    "# Switch the camera to the cross one and render the scene\n",
    "a.set_renderer(cam1, n_samples=100)\n",
    "# Add distortion to the model\n",
    "a.add_image_distortion(cam1)\n",
    "a.render_scene(output_path2) "
   ]
  },
  {
   "cell_type": "markdown",
   "id": "e8e133b7-d479-4a62-9659-2a08e18ebd20",
   "metadata": {},
   "source": [
    "# Check how translation changes over rotation"
   ]
  },
  {
   "cell_type": "code",
   "execution_count": 20,
   "id": "1961b3f6-419d-46d2-b806-03c73e7c60c4",
   "metadata": {},
   "outputs": [
    {
     "name": "stdout",
     "output_type": "stream",
     "text": [
      "<Vector (0.0000, -342.0201, 60.3074)>\n",
      "[[ 1.          0.          0.        ]\n",
      " [ 0.          0.93969262  0.34202014]\n",
      " [ 0.         -0.34202014  0.93969262]]\n"
     ]
    },
    {
     "data": {
      "text/plain": [
       "array([   0.        , -342.02014351,  -60.30737367])"
      ]
     },
     "execution_count": 20,
     "metadata": {},
     "output_type": "execute_result"
    }
   ],
   "source": [
    "T = (cam0.location - cam1.location) * 1000\n",
    "print(T)\n",
    "R = np.array([[1, 0, 0], [0, math.cos(ang_x), math.sin(ang_x)], \\\n",
    "             [0, -math.sin(ang_x), math.cos(ang_x)]])\n",
    "print(R)\n",
    "R.transpose() @ T"
   ]
  },
  {
   "cell_type": "code",
   "execution_count": 23,
   "id": "dcffeb22-0b67-4045-9cf6-e6b09688d5f3",
   "metadata": {},
   "outputs": [
    {
     "name": "stdout",
     "output_type": "stream",
     "text": [
      "[ 0.42261826  0.         -0.90630779]\n"
     ]
    }
   ],
   "source": [
    "print(cam1_target_orient)\n"
   ]
  },
  {
   "cell_type": "code",
   "execution_count": 33,
   "id": "2a76a2ac-f5dc-4d7c-a528-f796823e540f",
   "metadata": {},
   "outputs": [],
   "source": [
    "def quaternion_multiply(quaternion1, quaternion0):\n",
    "    w0, x0, y0, z0 = quaternion0\n",
    "    w1, x1, y1, z1 = quaternion1\n",
    "    return np.array([-x1 * x0 - y1 * y0 - z1 * z0 + w1 * w0,\n",
    "                     x1 * w0 + y1 * z0 - z1 * y0 + w1 * x0,\n",
    "                     -x1 * z0 + y1 * w0 + z1 * x0 + w1 * y0,\n",
    "                     x1 * y0 - y1 * x0 + z1 * w0 + w1 * z0], dtype=np.float64)"
   ]
  },
  {
   "cell_type": "code",
   "execution_count": 36,
   "id": "a3a0a4d7-827b-442c-ae4e-1c9b19a4b442",
   "metadata": {},
   "outputs": [
    {
     "name": "stdout",
     "output_type": "stream",
     "text": [
      "[ 0.97629601  0.         -0.21643961  0.        ]\n",
      "[0.99904822 0.         0.         0.04361939]\n",
      "[ 0.97536679 -0.00944096 -0.21623361  0.04258543]\n"
     ]
    }
   ],
   "source": [
    "v1 = p[\"cam_init_rot\"]\n",
    "v2 = cam1_target_orient\n",
    "a = np.cross(v1, v2);\n",
    "q = a;\n",
    "q = np.insert(q, 0, np.sqrt((np.linalg.norm(v1) ** 2) * (np.linalg.norm(v2) ** 2)) + np.dot(v1, v2))\n",
    "q /= np.linalg.norm(q)\n",
    "print(q)\n",
    "ang_z = math.radians(5)\n",
    "z_axis = [0, 0, 1]\n",
    "qz = np.array([math.cos(ang_z/2), \n",
    "               z_axis[0]*math.sin(ang_z/2), \n",
    "               z_axis[1]*math.sin(ang_z/2), \n",
    "               z_axis[2]*math.sin(ang_z/2)])\n",
    "qz /= np.linalg.norm(qz)\n",
    "print(qz)\n",
    "q2 = quaternion_multiply(q, qz)\n",
    "print(q2)"
   ]
  },
  {
   "cell_type": "code",
   "execution_count": null,
   "id": "cf800dbb-d959-478d-86b9-7bf1ee754e9d",
   "metadata": {},
   "outputs": [],
   "source": []
  },
  {
   "cell_type": "code",
   "execution_count": null,
   "id": "0dc57998-d468-4981-9e97-2db51b9f6cd8",
   "metadata": {},
   "outputs": [],
   "source": []
  },
  {
   "cell_type": "code",
   "execution_count": null,
   "id": "ea7c14f7-43a4-4827-8d70-b3b1ecb0f745",
   "metadata": {},
   "outputs": [],
   "source": []
  }
 ],
 "metadata": {
  "kernelspec": {
   "display_name": "Python 3 (ipykernel)",
   "language": "python",
   "name": "python3"
  },
  "language_info": {
   "codemirror_mode": {
    "name": "ipython",
    "version": 3
   },
   "file_extension": ".py",
   "mimetype": "text/x-python",
   "name": "python",
   "nbconvert_exporter": "python",
   "pygments_lexer": "ipython3",
   "version": "3.10.8"
  }
 },
 "nbformat": 4,
 "nbformat_minor": 5
}
