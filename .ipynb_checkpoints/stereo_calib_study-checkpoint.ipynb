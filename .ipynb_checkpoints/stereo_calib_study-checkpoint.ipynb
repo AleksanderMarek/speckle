{
 "cells": [
  {
   "cell_type": "code",
   "execution_count": 1,
   "id": "505d3d04-61a2-4d00-9a2c-3011e25ef564",
   "metadata": {},
   "outputs": [],
   "source": [
    "from speckle import VirtExp\n",
    "import speckle\n",
    "import numpy as np\n",
    "import math\n",
    "import bpy\n",
    "import mathutils"
   ]
  },
  {
   "cell_type": "code",
   "execution_count": 5,
   "id": "9152066b-2119-4cca-8be1-505d6f9df66e",
   "metadata": {},
   "outputs": [],
   "source": [
    "pattern_path = r\"D:\\Experiment Quality\\blender_model\\im.tiff\"\n",
    "normals_path = r\"D:\\Experiment Quality\\blender_model\\grad.tiff\"\n",
    "model_path = r\"D:\\Experiment Quality\\Correlation test\\compliant_spec_distortion\\model_dev.blend\"\n",
    "output_path = r\"D:\\Experiment Quality\\Correlation test\\compliant_spec_distortion\\render_0_0.tiff\"\n",
    "output_path2 = r\"D:\\Experiment Quality\\Correlation test\\compliant_spec_distortion\\render_0_1.tiff\"\n",
    "calib_path = r\"D:\\Experiment Quality\\Correlation test\\compliant_spec_distortion\\calibration.caldat\"\n",
    "mesh_path = r\"D:\\GitHub\\speckle\\test_specimen\\fullSpec.mesh\""
   ]
  },
  {
   "cell_type": "code",
   "execution_count": 103,
   "id": "ee549ecf-e194-4363-87bc-6f7979565a39",
   "metadata": {},
   "outputs": [
    {
     "name": "stdout",
     "output_type": "stream",
     "text": [
      "Info: Saved \"model_dev.blend\"\n"
     ]
    }
   ],
   "source": [
    "# Generate blender scene\n",
    "a = VirtExp(pattern_path, normals_path, output_path, model_path,\n",
    "            objects_position=\"fixed\")\n",
    "# Set up the scene\n",
    "# Get default properties\n",
    "p = a.get_default_params()\n",
    "# CAMERAS\n",
    "# Add the default target\n",
    "target = a.add_FEA_part(mesh_path)\n",
    "# Add the light panel\n",
    "# Calculate desired orientation of the light\n",
    "light_target_orient = p[\"light_target\"] - np.array(p[\"light_pos\"])\n",
    "# Calculate the rotation angle of the light\n",
    "light_angle = a.calc_rot_angle(p[\"light_init_rot\"], \n",
    "                                  light_target_orient)\n",
    "a.add_light(p[\"light_type\"], pos=p[\"light_pos\"], orient=light_angle,\n",
    "               energy=p[\"light_energy\"], spot_size=p[\"light_spotsize\"],\n",
    "               spot_blend=p[\"light_spot_blend\"], \n",
    "               shadow_spot_size = p[\"light_shad_spot\"])\n",
    "# Add straight camera\n",
    "# Calculate desired orientation of the cam\n",
    "cam0_target_orient = p[\"cam0_target\"] - np.array(p[\"cam0_pos\"]) \n",
    "cam0_target_dist = np.linalg.norm(cam0_target_orient)+1e-16\n",
    "cam_angle = a.calc_rot_angle(p[\"cam_init_rot\"], cam0_target_orient)\n",
    "cam0 = a.add_camera(pos=p[\"cam0_pos\"], orient=cam_angle, \n",
    "                       fstop=p[\"cam_fstop\"], \n",
    "                       focal_length=p[\"cam_foc_length\"],\n",
    "                       obj_distance=cam0_target_dist,\n",
    "                       k1=0.1, p1=0.00, k2=0.00)  \n",
    "# Add cross camera\n",
    "# Camera position\n",
    "#ang_x = math.radians(15.0)\n",
    "#cam1_pos = np.array([0.0, math.sin(ang_x), math.cos(ang_x)])\n",
    "ang_y = math.radians(15.0)\n",
    "cam1_pos = np.array([math.sin(ang_y), 0, math.cos(ang_y)])\n",
    "#cam1_pos = np.array([0.15, 0.02, 0.99])\n",
    "#cam1_pos = np.array([0, 0, 0.98])\n",
    "cam1_target_orient = p[\"cam1_target\"] - cam1_pos\n",
    "cam1_target_dist = np.linalg.norm(cam1_target_orient)+1e-16\n",
    "cam_angle = a.calc_rot_angle(p[\"cam_init_rot\"], cam1_target_orient)\n",
    "cam1 = a.add_camera(pos=cam1_pos, orient=cam_angle, \n",
    "                       fstop=p[\"cam_fstop\"],\n",
    "                       focal_length=p[\"cam_foc_length\"],\n",
    "                       obj_distance=cam1_target_dist)\n",
    "a.rotate_around_z(cam1, -1.5)\n",
    "# Define the material and assign it to the cube\n",
    "a.add_material(target)\n",
    "# Write the calibration file\n",
    "a.generate_calib_file(cam0, cam1, calib_path, ang_mode='ZXY')\n",
    "generate_calib_file(cam0, cam1, calib_path, ang_mode='XYZ')\n",
    "# Set the renderer up and render image\n",
    "a.set_renderer(cam0, n_samples=20)\n",
    "# Add distortion to the model\n",
    "a.add_image_distortion(cam0)\n",
    "# Save the model\n",
    "a.save_model()\n",
    "# Render the scene with the perpendicular camera\n",
    "a.render_scene(output_path)\n",
    "# Switch the camera to the cross one and render the scene\n",
    "a.set_renderer(cam1, n_samples=20)\n",
    "# Add distortion to the model\n",
    "a.add_image_distortion(cam1)\n",
    "a.render_scene(output_path2) "
   ]
  },
  {
   "cell_type": "code",
   "execution_count": 102,
   "id": "9f89fabb-32ce-4b95-a5d9-2483ee581b93",
   "metadata": {},
   "outputs": [],
   "source": [
    "generate_calib_file(cam0, cam1, calib_path, ang_mode='XYZ')"
   ]
  },
  {
   "cell_type": "markdown",
   "id": "e8e133b7-d479-4a62-9659-2a08e18ebd20",
   "metadata": {},
   "source": [
    "# Check how translation changes over rotation"
   ]
  },
  {
   "cell_type": "code",
   "execution_count": 26,
   "id": "568f008e-81c5-49d2-bae7-7f98a7e5ee66",
   "metadata": {
    "jupyter": {
     "source_hidden": true
    },
    "tags": []
   },
   "outputs": [],
   "source": [
    "def vec_to_quaternion(v):\n",
    "    if np.linalg.norm(v) == 0:\n",
    "        w = 1.0\n",
    "    else:\n",
    "        w = 0.0\n",
    "    if type(v) is list:\n",
    "        v.insert(0, w)\n",
    "        np.array(v)\n",
    "    elif type(v) is np.ndarray:\n",
    "        v = np.insert(v, 0, w)\n",
    "    elif type(v) is mathutils.Vector:\n",
    "        v = list(v)\n",
    "        v.insert(0, w)\n",
    "        np.array(v)\n",
    "    return v\n",
    "\n",
    "def quaternion_conjugate(q0):\n",
    "    if type(q0) is list or type(q0) is mathutils.Quaternion:\n",
    "        q0_conj = [-j if i > 0 else j for i, j in enumerate(q0)]\n",
    "    elif type(q0) is np.ndarray:\n",
    "        q0_conj = np.array([-j if i > 0 else j for i, j in enumerate(q0)])\n",
    "    return q0_conj    \n",
    "\n",
    "def quaternion_multiply(quaternion0, quaternion1):\n",
    "    w0, x0, y0, z0 = quaternion0\n",
    "    w1, x1, y1, z1 = quaternion1\n",
    "    return np.array([-x1 * x0 - y1 * y0 - z1 * z0 + w1 * w0,\n",
    "                     x1 * w0 + y1 * z0 - z1 * y0 + w1 * x0,\n",
    "                     -x1 * z0 + y1 * w0 + z1 * x0 + w1 * y0,\n",
    "                     x1 * y0 - y1 * x0 + z1 * w0 + w1 * z0], dtype=np.float64)\n",
    "    \n",
    "def rotate_vec(v, q):\n",
    "    # Convert the vector to quaternion\n",
    "    v = vec_to_quaternion(v)\n",
    "    # Calculate the conjugate of rotation quaternion\n",
    "    q_conj = quaternion_conjugate(q)\n",
    "    # Rotate the vector\n",
    "    v = quaternion_multiply(\n",
    "        quaternion_multiply(q, v), q_conj)\n",
    "    v = v[1:]\n",
    "    return v"
   ]
  },
  {
   "cell_type": "code",
   "execution_count": 101,
   "id": "5381346e-fa10-4a7c-b5ef-049cf2683005",
   "metadata": {},
   "outputs": [],
   "source": [
    " def generate_calib_file(cam0, cam1, calib_filepath, ang_mode='ZXY'):\n",
    "    # Calculate rotation of cam0 to cam1\n",
    "    cam0_orient = cam0.rotation_quaternion\n",
    "    # Reflect around X-Z plane\n",
    "    norm = [0, 0, 1, 0]\n",
    "    #cam0_orient = quaternion_multiply(norm, \n",
    "    #    quaternion_multiply(cam0_orient, norm))\n",
    "    q_x = [math.cos(np.pi/2), math.sin(np.pi/2), 0, 0]\n",
    "    cam0_orient = quaternion_multiply(q_x, \\\n",
    "                quaternion_multiply(cam0_orient, quaternion_conjugate(q_x)))\n",
    "    cam1_orient = cam1.rotation_quaternion\n",
    "    cam1_orient = quaternion_multiply(q_x, \\\n",
    "                quaternion_multiply(cam1_orient, quaternion_conjugate(q_x)))\n",
    "    #cam1_orient = quaternion_multiply(norm, \n",
    "    #    quaternion_multiply(cam1_orient, norm))\n",
    "    q_rot = quaternion_multiply(\n",
    "        cam0_orient,\n",
    "        quaternion_conjugate(cam1_orient)) #cam1 -> 0 for old method\n",
    "    q_rot_conj = quaternion_conjugate(q_rot)\n",
    "    q_rot = mathutils.Quaternion(q_rot)\n",
    "    ang = q_rot.to_euler(ang_mode)\n",
    "    ang = [math.degrees(i) for i in ang]\n",
    "    # Calculate translation of cam0 to cam1\n",
    "    dT = (cam0.location - cam1.location) * 1000\n",
    "    dT[2] *= -1\n",
    "    dT[1] *= -1\n",
    "    #dT *= -1\n",
    "    # Rotate the translation to the cam1 csys\n",
    "    dT_rot = rotate_vec(dT, q_rot_conj)\n",
    "    with open(calib_filepath, 'w') as file:\n",
    "        file.write('Cam1_Fx [pixels];'\n",
    "                   + f'{cam0.data.lens/cam0[\"px_size\"][0]}\\n')\n",
    "        file.write('Cam1_Fy [pixels];'\n",
    "                   + f'{cam0.data.lens/cam0[\"px_size\"][1]}\\n')\n",
    "        file.write('Cam1_Fs [pixels];0\\n')\n",
    "        file.write(f'Cam1_Kappa 1;{cam0[\"k1\"]}\\n')\n",
    "        file.write(f'Cam1_Kappa 2;{cam0[\"k2\"]}\\n')\n",
    "        file.write(f'Cam1_Kappa 3;{cam0[\"k3\"]}\\n')\n",
    "        file.write(f'Cam1_P1;{cam0[\"p1\"]}\\n')\n",
    "        file.write(f'Cam1_P2;{cam0[\"p2\"]}\\n')\n",
    "        file.write(f'Cam1_Cx [pixels];{cam0[\"c0\"]}\\n')\n",
    "        file.write(f'Cam1_Cy [pixels];{cam0[\"c1\"]}\\n')\n",
    "        file.write('Cam2_Fx [pixels];'\n",
    "                   + f'{cam1.data.lens/cam1[\"px_size\"][0]}\\n')\n",
    "        file.write('Cam2_Fy [pixels];'\n",
    "                   + f'{cam1.data.lens/cam1[\"px_size\"][1]}\\n')\n",
    "        file.write('Cam2_Fs [pixels];0\\n')\n",
    "        file.write(f'Cam2_Kappa 1;{cam1[\"k1\"]}\\n')\n",
    "        file.write(f'Cam2_Kappa 2;{cam1[\"k2\"]}\\n')\n",
    "        file.write(f'Cam2_Kappa 3;{cam1[\"k3\"]}\\n')\n",
    "        file.write(f'Cam2_P1;{cam1[\"p1\"]}\\n')\n",
    "        file.write(f'Cam2_P2;{cam1[\"p2\"]}\\n')\n",
    "        file.write(f'Cam2_Cx [pixels];{cam1[\"c0\"]}\\n')\n",
    "        file.write(f'Cam2_Cy [pixels];{cam1[\"c1\"]}\\n')\n",
    "        file.write(f'Tx [mm];{dT_rot[0]}\\n')\n",
    "        file.write(f'Ty [mm];{dT_rot[1]}\\n')\n",
    "        file.write(f'Tz [mm];{dT_rot[2]}\\n')\n",
    "        file.write(f'Theta [deg];{ang[0]}\\n')\n",
    "        file.write(f'Phi [deg];{ang[1]}\\n')\n",
    "        file.write(f'Psi [deg];{ang[2]}')"
   ]
  },
  {
   "cell_type": "code",
   "execution_count": 80,
   "id": "1961b3f6-419d-46d2-b806-03c73e7c60c4",
   "metadata": {},
   "outputs": [
    {
     "name": "stdout",
     "output_type": "stream",
     "text": [
      "<Vector (-150.0000, 20.0000, -10.0000)>\n",
      "Camera0 orientation is: <Quaternion (w=1.0000, x=0.0000, y=0.0000, z=0.0000)>\n",
      "Camera0 orientation is: [1. 0. 0. 0.]\n",
      "Camera1 orientation is: <Quaternion (w=0.9971, x=-0.0100, y=0.0751, z=0.0000)>\n",
      "Camera1 orientation is: [ 9.97125447e-01 -1.00138187e-02 -7.51036406e-02 -9.19754330e-18]\n",
      "[9.97125447e-01 1.00138187e-02 7.51036406e-02 9.19754330e-18]\n",
      "[ 9.97125447e-01 -1.00138187e-02 -7.51036406e-02 -9.19754330e-18]\n",
      "[-149.77550208   19.97006694   12.98055288]\n",
      "[1.157332972898054, 8.613916977423676, -0.08716460635145487]\n"
     ]
    }
   ],
   "source": [
    "dT = (cam1.location - cam0.location) * 1000\n",
    "dT[2] *= -1\n",
    "dT[1] *= -1\n",
    "dT *= -1\n",
    "print(dT)\n",
    "norm = [0, 0, 1, 0]\n",
    "cam0_orient = cam0.rotation_quaternion\n",
    "print(f\"Camera0 orientation is: {cam0_orient}\")\n",
    "# Rotate quaternion 180deg around x axis\n",
    "q_x = [math.cos(np.pi/2), math.sin(np.pi/2), 0, 0]\n",
    "cam0_orient = quaternion_multiply(q_x, \\\n",
    "                quaternion_multiply(cam0_orient, quaternion_conjugate(q_x)))\n",
    "print(f\"Camera0 orientation is: {cam0_orient}\")\n",
    "cam1_orient = cam1.rotation_quaternion\n",
    "print(f\"Camera1 orientation is: {cam1_orient}\")\n",
    "cam1_orient = quaternion_multiply(q_x, \\\n",
    "                quaternion_multiply(cam1_orient, quaternion_conjugate(q_x)))\n",
    "print(f\"Camera1 orientation is: {cam1_orient}\")\n",
    "q_rot = quaternion_multiply(cam0_orient,\n",
    "            quaternion_conjugate(cam1_orient))\n",
    "print(q_rot)\n",
    "q_rot_conj = quaternion_conjugate(q_rot)\n",
    "print(q_rot_conj)\n",
    "dT_rot = rotate_vec(dT, q_rot_conj)\n",
    "print(dT_rot)\n",
    "q_rot = mathutils.Quaternion(q_rot)\n",
    "ang_mode = 'ZYX'\n",
    "ang = q_rot.to_euler(ang_mode)\n",
    "ang = [math.degrees(i) for i in ang]\n",
    "print(ang)"
   ]
  },
  {
   "cell_type": "code",
   "execution_count": 23,
   "id": "dcffeb22-0b67-4045-9cf6-e6b09688d5f3",
   "metadata": {},
   "outputs": [
    {
     "name": "stdout",
     "output_type": "stream",
     "text": [
      "[ 0.42261826  0.         -0.90630779]\n"
     ]
    }
   ],
   "source": [
    "print(cam1_target_orient)\n"
   ]
  },
  {
   "cell_type": "code",
   "execution_count": 33,
   "id": "2a76a2ac-f5dc-4d7c-a528-f796823e540f",
   "metadata": {},
   "outputs": [],
   "source": []
  },
  {
   "cell_type": "code",
   "execution_count": 46,
   "id": "a3a0a4d7-827b-442c-ae4e-1c9b19a4b442",
   "metadata": {},
   "outputs": [
    {
     "name": "stdout",
     "output_type": "stream",
     "text": [
      "[0.99144486 0.         0.13052619 0.        ]\n",
      "[0.99904822 0.         0.         0.04361939]\n",
      "[0.99050123 0.00569347 0.13040196 0.04324622]\n",
      "Rotating around y first, then z\n",
      "[0.25881905 0.         0.96592583]\n",
      "[0.99904822 0.01128953 0.         0.04213309]\n",
      "[0.99050123 0.00569347 0.13040196 0.04324622]\n"
     ]
    }
   ],
   "source": [
    "ang_y = math.radians(15.0)\n",
    "cam1_pos = np.array([math.sin(ang_y), 0, math.cos(ang_y)])\n",
    "cam1_target_orient = p[\"cam1_target\"] - cam1_pos\n",
    "v1 = p[\"cam_init_rot\"]\n",
    "v2 = cam1_target_orient\n",
    "a = np.cross(v1, v2);\n",
    "q = a;\n",
    "q = np.insert(q, 0, np.sqrt((np.linalg.norm(v1) ** 2) * (np.linalg.norm(v2) ** 2)) + np.dot(v1, v2))\n",
    "q /= np.linalg.norm(q)\n",
    "print(q)\n",
    "ang_z = math.radians(5)\n",
    "z_axis = np.array([0, 0, 1])\n",
    "qz = np.array([math.cos(ang_z/2), \n",
    "               z_axis[0]*math.sin(ang_z/2), \n",
    "               z_axis[1]*math.sin(ang_z/2), \n",
    "               z_axis[2]*math.sin(ang_z/2)])\n",
    "qz /= np.linalg.norm(qz)\n",
    "print(qz)\n",
    "q2 = quaternion_multiply(q, qz)\n",
    "print(q2)\n",
    "# Try to rotate first around y and then z\n",
    "Ry = np.array([[math.cos(ang_y), 0, math.sin(ang_y)], \n",
    "               [0, 1, 0],\n",
    "               [-math.sin(ang_y), 0, math.cos(ang_y)]])\n",
    "z_axis_rot = Ry @ z_axis\n",
    "print('Rotating around y first, then z')\n",
    "print(z_axis_rot)\n",
    "qz = np.array([math.cos(ang_z/2), \n",
    "               z_axis_rot[0]*math.sin(ang_z/2), \n",
    "               z_axis_rot[1]*math.sin(ang_z/2), \n",
    "               z_axis_rot[2]*math.sin(ang_z/2)])\n",
    "qz /= np.linalg.norm(qz)\n",
    "print(qz)\n",
    "q2 = quaternion_multiply(qz, q)\n",
    "print(q2)"
   ]
  },
  {
   "cell_type": "markdown",
   "id": "505e1560-1e3f-48d4-938b-c7522dd197d5",
   "metadata": {},
   "source": [
    "# Calculation of the rotation angle between the two cameras"
   ]
  },
  {
   "cell_type": "markdown",
   "id": "8f063c83-084b-412f-b9c4-be0fc7e448be",
   "metadata": {},
   "source": [
    "The relative orientation between two quaternions can be found as:\n",
    "\n",
    "$q = q_{0} * inverse(q_{1})$\n",
    "\n",
    "Where:\n",
    "\n",
    "$inverse(q_{1})$ is its conjugate: $q_{1}^{*} = [q, -x, -y, -z]$"
   ]
  },
  {
   "cell_type": "code",
   "execution_count": 82,
   "id": "ea7c14f7-43a4-4827-8d70-b3b1ecb0f745",
   "metadata": {},
   "outputs": [
    {
     "name": "stdout",
     "output_type": "stream",
     "text": [
      "[0.965925 0.       0.2588   0.      ]\n"
     ]
    }
   ],
   "source": [
    "q_cam0 = [0, 0, 0, -1]\n",
    "# q_cam1 = [0.99050123, 0.00569347, 0.13040196, 0.04324622] # with 5deg around Z\n",
    "#q_cam1 = [0.991445, 0, 0.130526, 0] # without rot around z\n",
    "q_cam1 = [0, -0.2588, 0, -0.965925]\n",
    "q_cam0_conj = [-j if i > 0 else j for i,j in enumerate(q_cam0)]\n",
    "q_cam1_conj = [-j if i > 0 else j for i,j in enumerate(q_cam1)]\n",
    "\n",
    "rot = quaternion_multiply(q_cam1, q_cam0_conj)\n",
    "rot_conj = [-j if i > 0 else j for i,j in enumerate(rot)]\n",
    "print(rot)"
   ]
  },
  {
   "cell_type": "markdown",
   "id": "c5bd926c-99d7-42a9-9c63-6631e6113c06",
   "metadata": {},
   "source": [
    "## Convert the rotation quaternion into the Euler angles using bpy functions"
   ]
  },
  {
   "cell_type": "code",
   "execution_count": 84,
   "id": "29034468-5803-4737-bf30-8dec66689ab7",
   "metadata": {},
   "outputs": [
    {
     "name": "stdout",
     "output_type": "stream",
     "text": [
      "<Quaternion (w=0.9659, x=0.0000, y=0.2588, z=0.0000)>\n",
      "[0.0, 29.997924457318373, 0.0]\n"
     ]
    }
   ],
   "source": [
    "q_rot = mathutils.Quaternion(rot)\n",
    "print(q_rot)\n",
    "q_rot_eul = q_rot.to_euler('XYZ')\n",
    "q_rot_eul = [math.degrees(i) for i in q_rot_eul]\n",
    "print(q_rot_eul)"
   ]
  },
  {
   "cell_type": "markdown",
   "id": "fd847253-8772-4bb6-a696-307a9a8f03b4",
   "metadata": {},
   "source": [
    "## Rotate the translation vector from camera 0 to camera 1"
   ]
  },
  {
   "cell_type": "code",
   "execution_count": 78,
   "id": "72de5a11-4c82-461c-805b-3118ea6d9f23",
   "metadata": {},
   "outputs": [
    {
     "name": "stdout",
     "output_type": "stream",
     "text": [
      "[0, 0.258819, 0, 0.034070000000000045]\n",
      "[ 0.          0.25881799  0.         -0.03407809]\n"
     ]
    }
   ],
   "source": [
    "T = [0.258819, 0, 1-0.96593]\n",
    "T.insert(0,0)\n",
    "q_T = np.array(T)\n",
    "print(T)\n",
    "q_T_rot = quaternion_multiply(quaternion_multiply(rot, q_T), rot_conj)\n",
    "print(q_T_rot)\n"
   ]
  },
  {
   "cell_type": "code",
   "execution_count": null,
   "id": "d0e1e771-3faa-40b6-9783-f88557e28f98",
   "metadata": {},
   "outputs": [],
   "source": []
  },
  {
   "cell_type": "code",
   "execution_count": null,
   "id": "5a0972df-4277-4451-994e-2446929f7866",
   "metadata": {},
   "outputs": [],
   "source": []
  },
  {
   "cell_type": "code",
   "execution_count": null,
   "id": "d84d96b9-a382-4f99-9142-398856f161f0",
   "metadata": {},
   "outputs": [],
   "source": []
  },
  {
   "cell_type": "code",
   "execution_count": null,
   "id": "d672ef93-71ce-4302-92e7-2e0607999100",
   "metadata": {},
   "outputs": [],
   "source": []
  }
 ],
 "metadata": {
  "kernelspec": {
   "display_name": "Python 3 (ipykernel)",
   "language": "python",
   "name": "python3"
  },
  "language_info": {
   "codemirror_mode": {
    "name": "ipython",
    "version": 3
   },
   "file_extension": ".py",
   "mimetype": "text/x-python",
   "name": "python",
   "nbconvert_exporter": "python",
   "pygments_lexer": "ipython3",
   "version": "3.10.8"
  }
 },
 "nbformat": 4,
 "nbformat_minor": 5
}
